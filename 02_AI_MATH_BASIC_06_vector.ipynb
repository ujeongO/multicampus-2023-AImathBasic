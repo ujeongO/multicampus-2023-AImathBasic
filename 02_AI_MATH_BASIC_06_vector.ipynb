{
 "cells": [
  {
   "cell_type": "code",
   "execution_count": 1,
   "id": "a1459cfc",
   "metadata": {},
   "outputs": [
    {
     "name": "stdout",
     "output_type": "stream",
     "text": [
      "[1 2 3]\n",
      "(3,)\n",
      "\n",
      "[[1 2 3]]\n",
      "(1, 3)\n"
     ]
    }
   ],
   "source": [
    "import numpy as np\n",
    "\n",
    "np.array([1,2,3])\n",
    "\n",
    "x = np.array([1,2,3])\n",
    "u = np.array([[1,2,3]])\n",
    "\n",
    "print(x)\n",
    "print(x.shape)\n",
    "print()\n",
    "print(u)\n",
    "print(u.shape)"
   ]
  },
  {
   "cell_type": "code",
   "execution_count": 5,
   "id": "d445fdb9",
   "metadata": {},
   "outputs": [
    {
     "name": "stdout",
     "output_type": "stream",
     "text": [
      "[[1]\n",
      " [2]\n",
      " [3]]\n",
      "(3, 1)\n"
     ]
    }
   ],
   "source": [
    "v = np.array([[1],[2],[3]])\n",
    "print(v)\n",
    "print(v.shape)"
   ]
  },
  {
   "cell_type": "code",
   "execution_count": 6,
   "id": "8672fccd",
   "metadata": {},
   "outputs": [
    {
     "name": "stdout",
     "output_type": "stream",
     "text": [
      "Requirement already satisfied: scipy in /Users/oyujeong/anaconda3/lib/python3.11/site-packages (1.11.1)\r\n",
      "Requirement already satisfied: numpy<1.28.0,>=1.21.6 in /Users/oyujeong/anaconda3/lib/python3.11/site-packages (from scipy) (1.24.3)\r\n"
     ]
    }
   ],
   "source": [
    "# linalg (linear algebra)\n",
    "!pip install scipy"
   ]
  },
  {
   "cell_type": "code",
   "execution_count": 2,
   "id": "6b64642f",
   "metadata": {},
   "outputs": [
    {
     "name": "stdout",
     "output_type": "stream",
     "text": [
      "3.7416573867739413\n",
      "[0.53452248 0.80178373 0.26726124]\n"
     ]
    }
   ],
   "source": [
    "from scipy import linalg\n",
    "import numpy as np\n",
    "\n",
    "s = np.array([2,3,1])\n",
    "\n",
    "# 단위 벡터 (u) >> s / ||s||\n",
    "\n",
    "print(linalg.norm(s)) # ||s||\n",
    "# print(s / linalg.norm(s))\n",
    "norm = s / linalg.norm(s)\n",
    "print(norm)\n"
   ]
  },
  {
   "cell_type": "code",
   "execution_count": 3,
   "id": "4cb9f22c",
   "metadata": {},
   "outputs": [
    {
     "data": {
      "text/plain": [
       "array([ 0.31622777, -0.9486833 ])"
      ]
     },
     "execution_count": 3,
     "metadata": {},
     "output_type": "execute_result"
    }
   ],
   "source": [
    "np.array([1, -3])\n",
    "\n",
    "x = np.array([1, -3])\n",
    "\n",
    "# u = x / ||x||\n",
    "u = x / linalg.norm(x)\n",
    "u"
   ]
  },
  {
   "cell_type": "code",
   "execution_count": 4,
   "id": "6386fefa",
   "metadata": {},
   "outputs": [
    {
     "data": {
      "text/plain": [
       "array([-0.6, -0.8])"
      ]
     },
     "execution_count": 4,
     "metadata": {},
     "output_type": "execute_result"
    }
   ],
   "source": [
    "np.array([-6, -8])\n",
    "\n",
    "x = np.array([-6, -8])\n",
    "\n",
    "# u = x / ||x||\n",
    "u = x / linalg.norm(x)\n",
    "u"
   ]
  },
  {
   "cell_type": "code",
   "execution_count": 5,
   "id": "3cd7fad5",
   "metadata": {},
   "outputs": [
    {
     "data": {
      "text/plain": [
       "array([0., 0., 0., 0., 0.])"
      ]
     },
     "execution_count": 5,
     "metadata": {},
     "output_type": "execute_result"
    }
   ],
   "source": [
    "import numpy as np\n",
    "\n",
    "np.zeros(5) # 0벡터 5개 생성"
   ]
  },
  {
   "cell_type": "code",
   "execution_count": 6,
   "id": "33f450ee",
   "metadata": {},
   "outputs": [
    {
     "data": {
      "text/plain": [
       "(5,)"
      ]
     },
     "execution_count": 6,
     "metadata": {},
     "output_type": "execute_result"
    }
   ],
   "source": [
    "np.zeros(5).shape"
   ]
  },
  {
   "cell_type": "code",
   "execution_count": 7,
   "id": "c20db10a",
   "metadata": {},
   "outputs": [
    {
     "data": {
      "text/plain": [
       "array([[0., 0.],\n",
       "       [0., 0.]])"
      ]
     },
     "execution_count": 7,
     "metadata": {},
     "output_type": "execute_result"
    }
   ],
   "source": [
    "s = (2, 2)\n",
    "np.zeros(s)"
   ]
  },
  {
   "cell_type": "markdown",
   "id": "21632b82",
   "metadata": {},
   "source": [
    "선형결합과 생성(span)"
   ]
  },
  {
   "cell_type": "code",
   "execution_count": 9,
   "id": "5d37843a",
   "metadata": {},
   "outputs": [
    {
     "name": "stdout",
     "output_type": "stream",
     "text": [
      "[2 4]\n",
      "\n",
      "[1 6]\n"
     ]
    }
   ],
   "source": [
    "import numpy as np\n",
    "\n",
    "a = np.array([2,4])\n",
    "b = np.array([1,6])\n",
    "\n",
    "print(a)\n",
    "print()\n",
    "print(b)"
   ]
  },
  {
   "cell_type": "code",
   "execution_count": 10,
   "id": "4de40f75",
   "metadata": {},
   "outputs": [
    {
     "name": "stdout",
     "output_type": "stream",
     "text": [
      "[ 5 -2]\n"
     ]
    }
   ],
   "source": [
    "c = (4*a) + ((-3)*b)\n",
    "print(c)\n",
    "# 넘파이 배열로 변환 >> 원소에 접근 가능\n",
    "# >> 원소 간 연산이 가능"
   ]
  },
  {
   "cell_type": "code",
   "execution_count": null,
   "id": "bfae824c",
   "metadata": {},
   "outputs": [],
   "source": []
  },
  {
   "cell_type": "markdown",
   "id": "c79d419d",
   "metadata": {},
   "source": [
    "벡터 공간, 부분공간 기저"
   ]
  },
  {
   "cell_type": "code",
   "execution_count": 13,
   "id": "b44e5038",
   "metadata": {},
   "outputs": [
    {
     "data": {
      "text/plain": [
       "array([[2, 7],\n",
       "       [5, 1]])"
      ]
     },
     "execution_count": 13,
     "metadata": {},
     "output_type": "execute_result"
    }
   ],
   "source": [
    "import numpy as np\n",
    "\n",
    "np.array([[2,7],[5,1]])\n"
   ]
  },
  {
   "cell_type": "code",
   "execution_count": 14,
   "id": "44768096",
   "metadata": {},
   "outputs": [
    {
     "data": {
      "text/plain": [
       "2"
      ]
     },
     "execution_count": 14,
     "metadata": {},
     "output_type": "execute_result"
    }
   ],
   "source": [
    "# rank\n",
    "m = np.array([[2,7],[5,1]])\n",
    "np.linalg.matrix_rank(m)\n",
    "# rank 몇 개? >> 2개"
   ]
  },
  {
   "cell_type": "code",
   "execution_count": 15,
   "id": "946f3f2f",
   "metadata": {},
   "outputs": [
    {
     "data": {
      "text/plain": [
       "array([[2, 4],\n",
       "       [3, 6]])"
      ]
     },
     "execution_count": 15,
     "metadata": {},
     "output_type": "execute_result"
    }
   ],
   "source": [
    "np.array([[2,4],[3,6]])"
   ]
  },
  {
   "cell_type": "code",
   "execution_count": 16,
   "id": "93c8c03c",
   "metadata": {},
   "outputs": [
    {
     "data": {
      "text/plain": [
       "1"
      ]
     },
     "execution_count": 16,
     "metadata": {},
     "output_type": "execute_result"
    }
   ],
   "source": [
    "m_1 = np.array([[2,4],[3,6]])\n",
    "np.linalg.matrix_rank(m_1)\n",
    "# rank >> 1개\n",
    "# why? >> 벡터 간 관계가 선형종속"
   ]
  },
  {
   "cell_type": "code",
   "execution_count": null,
   "id": "1563a656",
   "metadata": {},
   "outputs": [],
   "source": []
  },
  {
   "cell_type": "markdown",
   "id": "ab370c4e",
   "metadata": {},
   "source": [
    "벡터의 내적과 외적"
   ]
  },
  {
   "cell_type": "code",
   "execution_count": 17,
   "id": "9c3a4bf5",
   "metadata": {},
   "outputs": [
    {
     "name": "stdout",
     "output_type": "stream",
     "text": [
      "[5, 4]\n"
     ]
    }
   ],
   "source": [
    "# 벡터의 덧셈과 뺄셈\n",
    "\n",
    "x = [2,3]\n",
    "y = [3,1]\n",
    "\n",
    "z = [i+j for i,j in zip(x,y)]\n",
    "\n",
    "print(z)"
   ]
  },
  {
   "cell_type": "code",
   "execution_count": 19,
   "id": "2930e30e",
   "metadata": {},
   "outputs": [
    {
     "data": {
      "text/plain": [
       "[(2, 3), (3, 1)]"
      ]
     },
     "execution_count": 19,
     "metadata": {},
     "output_type": "execute_result"
    }
   ],
   "source": [
    "list(zip(x,y))"
   ]
  },
  {
   "cell_type": "code",
   "execution_count": 20,
   "id": "9397e16a",
   "metadata": {},
   "outputs": [
    {
     "name": "stdout",
     "output_type": "stream",
     "text": [
      "(2, 3)\n",
      "(3, 1)\n"
     ]
    }
   ],
   "source": [
    "i,j = list(zip(x,y))\n",
    "\n",
    "print(i)\n",
    "print(j)"
   ]
  },
  {
   "cell_type": "code",
   "execution_count": 22,
   "id": "271e76b6",
   "metadata": {},
   "outputs": [
    {
     "data": {
      "text/plain": [
       "<zip at 0x11327ea00>"
      ]
     },
     "execution_count": 22,
     "metadata": {},
     "output_type": "execute_result"
    }
   ],
   "source": [
    "# zip (*iterable)\n",
    "\n",
    "zip([1,2,3], [4,5,6])"
   ]
  },
  {
   "cell_type": "code",
   "execution_count": 23,
   "id": "602d1a4b",
   "metadata": {},
   "outputs": [
    {
     "data": {
      "text/plain": [
       "[(1, 4), (2, 5), (3, 6)]"
      ]
     },
     "execution_count": 23,
     "metadata": {},
     "output_type": "execute_result"
    }
   ],
   "source": [
    "list(zip([1,2,3], [4,5,6]))"
   ]
  },
  {
   "cell_type": "code",
   "execution_count": 24,
   "id": "81af7ea7",
   "metadata": {},
   "outputs": [
    {
     "name": "stdout",
     "output_type": "stream",
     "text": [
      "[2 3]\n",
      "[3 1]\n"
     ]
    }
   ],
   "source": [
    "u = np.array(x)\n",
    "v = np.array(y)\n",
    "\n",
    "print(u)\n",
    "print(v)"
   ]
  },
  {
   "cell_type": "code",
   "execution_count": 25,
   "id": "df9f50e9",
   "metadata": {},
   "outputs": [
    {
     "name": "stdout",
     "output_type": "stream",
     "text": [
      "[5 4]\n"
     ]
    }
   ],
   "source": [
    "w = u+v\n",
    "print(w)"
   ]
  },
  {
   "cell_type": "code",
   "execution_count": 27,
   "id": "69f079e6",
   "metadata": {},
   "outputs": [
    {
     "name": "stdout",
     "output_type": "stream",
     "text": [
      "[-1, 2]\n"
     ]
    }
   ],
   "source": [
    "x = [2,3]\n",
    "y = [3,1]\n",
    "\n",
    "z = [i-j for i,j in zip(x,y)]\n",
    "print(z)"
   ]
  },
  {
   "cell_type": "code",
   "execution_count": 28,
   "id": "49879b4a",
   "metadata": {},
   "outputs": [
    {
     "data": {
      "text/plain": [
       "[(2, 3), (3, 1)]"
      ]
     },
     "execution_count": 28,
     "metadata": {},
     "output_type": "execute_result"
    }
   ],
   "source": [
    "list(zip(x,y))"
   ]
  },
  {
   "cell_type": "code",
   "execution_count": 30,
   "id": "5e3d9ea0",
   "metadata": {},
   "outputs": [
    {
     "name": "stdout",
     "output_type": "stream",
     "text": [
      "[24, 32]\n"
     ]
    }
   ],
   "source": [
    "# 벡터의 곱셈\n",
    "\n",
    "x = [3,4]\n",
    "c = 8 # scala\n",
    "\n",
    "# 원소간 곱하는 방법: 리스트 내포(list comprehension)\n",
    "z = [c*i for i in x]\n",
    "\n",
    "print(z)"
   ]
  },
  {
   "cell_type": "code",
   "execution_count": 32,
   "id": "087a47ce",
   "metadata": {},
   "outputs": [],
   "source": [
    "# 원소간 곱하는 방법: 넘파이 배열로 변환\n",
    "u = np.array([3,4])"
   ]
  },
  {
   "cell_type": "code",
   "execution_count": 33,
   "id": "466e2e69",
   "metadata": {},
   "outputs": [
    {
     "name": "stdout",
     "output_type": "stream",
     "text": [
      "[24 32]\n"
     ]
    }
   ],
   "source": [
    "w = u*c\n",
    "print(w)"
   ]
  },
  {
   "cell_type": "code",
   "execution_count": 35,
   "id": "3e48ca74",
   "metadata": {},
   "outputs": [
    {
     "name": "stdout",
     "output_type": "stream",
     "text": [
      "72\n"
     ]
    }
   ],
   "source": [
    "# 벡터의 내적⭐️⭐️⭐️\n",
    "\n",
    "import numpy as np\n",
    "\n",
    "u = np.array([6,6])\n",
    "v = np.array([12,0])\n",
    "\n",
    "uv = np.dot(u, v)\n",
    "print(uv)"
   ]
  },
  {
   "cell_type": "code",
   "execution_count": 39,
   "id": "592772f1",
   "metadata": {},
   "outputs": [
    {
     "name": "stdout",
     "output_type": "stream",
     "text": [
      "[0 1 2 3 4 5]\n",
      "\n"
     ]
    },
    {
     "data": {
      "text/plain": [
       "array([[[0, 1, 2],\n",
       "        [3, 4, 5]]])"
      ]
     },
     "execution_count": 39,
     "metadata": {},
     "output_type": "execute_result"
    }
   ],
   "source": [
    "# 정사영 (projection)⭐️⭐️⭐️\n",
    "\n",
    "import numpy as np\n",
    "\n",
    "print(np.arange(1*2*3))\n",
    "print()\n",
    "np.arange(1*2*3).reshape((1,2,3))\n",
    "# >> 3차원에, 2행 3열(2x3)"
   ]
  },
  {
   "cell_type": "code",
   "execution_count": 44,
   "id": "f43d5b50",
   "metadata": {},
   "outputs": [
    {
     "name": "stdout",
     "output_type": "stream",
     "text": [
      "[[[0 1 2]\n",
      "  [3 4 5]]]\n",
      "[[[0 1 2]\n",
      "  [3 4 5]]]\n",
      "\n",
      "[[[[10 13]]\n",
      "\n",
      "  [[28 40]]]]\n"
     ]
    }
   ],
   "source": [
    "a = np.arange(1*2*3).reshape((1,2,3))\n",
    "b = np.arange(1*2*3).reshape((1,2,3))\n",
    "c = np.arange(1*2*3).reshape((1,3,2))\n",
    "d = np.arange(1*2*3).reshape((2,1,3))\n",
    "e = np.arange(1*2*3).reshape((2,3,1))\n",
    "f = np.arange(1*2*3).reshape((3,1,2))\n",
    "j = np.arange(1*2*3).reshape((3,2,1))\n",
    "\n",
    "print(a)\n",
    "print(b)\n",
    "print()\n",
    "\n",
    "# print(np.dot(a,b))\n",
    "# ValueError: shapes (1,2,3) and (1,2,3) not aligned: 3 (dim 2) != 2 (dim 1)\n",
    "\n",
    "print(np.dot(b,c))\n"
   ]
  },
  {
   "cell_type": "code",
   "execution_count": 46,
   "id": "34210bac",
   "metadata": {},
   "outputs": [
    {
     "name": "stdout",
     "output_type": "stream",
     "text": [
      "[ 3 -6]\n",
      "[-7  9]\n"
     ]
    }
   ],
   "source": [
    "import numpy as np\n",
    "\n",
    "u = np.array([3, -6])\n",
    "v = np.array([-7, 9])\n",
    "\n",
    "print(u)\n",
    "print(v)"
   ]
  },
  {
   "cell_type": "code",
   "execution_count": 47,
   "id": "edcf552d",
   "metadata": {},
   "outputs": [
    {
     "data": {
      "text/plain": [
       "-75"
      ]
     },
     "execution_count": 47,
     "metadata": {},
     "output_type": "execute_result"
    }
   ],
   "source": [
    "np.dot(u, v)"
   ]
  },
  {
   "cell_type": "code",
   "execution_count": 48,
   "id": "18ce9b95",
   "metadata": {},
   "outputs": [
    {
     "name": "stdout",
     "output_type": "stream",
     "text": [
      "11\n"
     ]
    }
   ],
   "source": [
    "u = np.array([-3, 4, 7])\n",
    "v = np.array([-4, -9, 5])\n",
    "\n",
    "uv = np.dot(u, v)\n",
    "print(uv)"
   ]
  },
  {
   "cell_type": "code",
   "execution_count": 49,
   "id": "7556c9a3",
   "metadata": {},
   "outputs": [],
   "source": [
    "# 외적\n",
    "\n",
    "a = (1, 3, 5)\n",
    "b = (2, 4, 6)"
   ]
  },
  {
   "cell_type": "code",
   "execution_count": 50,
   "id": "bc8d6237",
   "metadata": {},
   "outputs": [],
   "source": [
    "# 외적 함수\n",
    "\n",
    "def cross(a, b):\n",
    "    c = [a[1]*b[2] - a[2]*b[1],\n",
    "         a[2]*b[0] - a[0]*b[2],\n",
    "         a[0]*b[1] - a[1]*b[0]]\n",
    "    \n",
    "    return c\n",
    "    "
   ]
  },
  {
   "cell_type": "code",
   "execution_count": 52,
   "id": "982559fd",
   "metadata": {},
   "outputs": [
    {
     "data": {
      "text/plain": [
       "[-2, 4, -2]"
      ]
     },
     "execution_count": 52,
     "metadata": {},
     "output_type": "execute_result"
    }
   ],
   "source": [
    "cross(a,b)\n",
    "# x: -2, y: 4, z: -2"
   ]
  },
  {
   "cell_type": "code",
   "execution_count": 54,
   "id": "098bafcf",
   "metadata": {},
   "outputs": [
    {
     "data": {
      "text/plain": [
       "array([-2,  4, -2])"
      ]
     },
     "execution_count": 54,
     "metadata": {},
     "output_type": "execute_result"
    }
   ],
   "source": [
    "# numpy 이용한 벡터 외적 계산\n",
    "np.cross(a,b)"
   ]
  },
  {
   "cell_type": "code",
   "execution_count": 55,
   "id": "8e26ff93",
   "metadata": {},
   "outputs": [
    {
     "name": "stdout",
     "output_type": "stream",
     "text": [
      "[94 54 29]\n"
     ]
    }
   ],
   "source": [
    "import numpy as np\n",
    "\n",
    "a = np.array([5, -13, 8])\n",
    "b = np.array([-2, 11, -14])\n",
    "\n",
    "print(np.cross(a,b))"
   ]
  },
  {
   "cell_type": "code",
   "execution_count": 56,
   "id": "12fad01a",
   "metadata": {},
   "outputs": [
    {
     "name": "stdout",
     "output_type": "stream",
     "text": [
      "[1 2]\n"
     ]
    }
   ],
   "source": [
    "# 직교 벡터\n",
    "\n",
    "import numpy as np\n",
    "\n",
    "# 크기가 (1,2) 2차원 배열(행렬)\n",
    "a = np.array([1,2])\n",
    "print(a)"
   ]
  },
  {
   "cell_type": "code",
   "execution_count": 57,
   "id": "c6111052",
   "metadata": {},
   "outputs": [
    {
     "data": {
      "text/plain": [
       "2.23606797749979"
      ]
     },
     "execution_count": 57,
     "metadata": {},
     "output_type": "execute_result"
    }
   ],
   "source": [
    "np.linalg.norm(a) # default: L2 norm"
   ]
  },
  {
   "cell_type": "code",
   "execution_count": 59,
   "id": "e2ecb49e",
   "metadata": {},
   "outputs": [
    {
     "data": {
      "text/plain": [
       "2.23606797749979"
      ]
     },
     "execution_count": 59,
     "metadata": {},
     "output_type": "execute_result"
    }
   ],
   "source": [
    "np.linalg.norm(a, ord=2) # L2 norm(default)"
   ]
  },
  {
   "cell_type": "code",
   "execution_count": 60,
   "id": "e7bb8027",
   "metadata": {},
   "outputs": [
    {
     "data": {
      "text/plain": [
       "3.0"
      ]
     },
     "execution_count": 60,
     "metadata": {},
     "output_type": "execute_result"
    }
   ],
   "source": [
    "np.linalg.norm(a, ord=1) # L1 norm"
   ]
  },
  {
   "cell_type": "code",
   "execution_count": 62,
   "id": "cc2065c4",
   "metadata": {},
   "outputs": [
    {
     "name": "stdout",
     "output_type": "stream",
     "text": [
      "[-2 12]\n",
      "\n",
      "12.165525060596439\n"
     ]
    }
   ],
   "source": [
    "import numpy as np\n",
    "\n",
    "a = np.array([-2, 12])\n",
    "print(a)\n",
    "print()\n",
    "print(np.linalg.norm(a))"
   ]
  },
  {
   "cell_type": "code",
   "execution_count": 64,
   "id": "8d193767",
   "metadata": {},
   "outputs": [
    {
     "data": {
      "text/plain": [
       "array([ 2.23606798, 12.        ])"
      ]
     },
     "execution_count": 64,
     "metadata": {},
     "output_type": "execute_result"
    }
   ],
   "source": [
    "np.array([5**0.5, 12])"
   ]
  },
  {
   "cell_type": "code",
   "execution_count": 63,
   "id": "40c71b47",
   "metadata": {},
   "outputs": [
    {
     "data": {
      "text/plain": [
       "12.206555615733702"
      ]
     },
     "execution_count": 63,
     "metadata": {},
     "output_type": "execute_result"
    }
   ],
   "source": [
    "a = np.array([5**0.5, 12])\n",
    "np.linalg.norm(a)"
   ]
  },
  {
   "cell_type": "markdown",
   "id": "8d563555",
   "metadata": {},
   "source": [
    "직교벡터_유사도 기반 거리"
   ]
  },
  {
   "cell_type": "code",
   "execution_count": 2,
   "id": "0cd24bbb",
   "metadata": {},
   "outputs": [
    {
     "name": "stdout",
     "output_type": "stream",
     "text": [
      "Euclidean distance:  5.196152422706632\n"
     ]
    }
   ],
   "source": [
    "# 1. 유클리디언 거리\n",
    "\n",
    "from scipy.spatial import distance\n",
    "\n",
    "# 두 점 p1, p2 명시\n",
    "p1 = (1,2,3)\n",
    "p2 = (4,5,6)\n",
    "\n",
    "# p1과 p2 사이의 유클리드 거리를 계산합니다.\n",
    "d = distance.euclidean(p1, p2)\n",
    "print(\"Euclidean distance: \", d)\n"
   ]
  },
  {
   "cell_type": "code",
   "execution_count": null,
   "id": "b035861f",
   "metadata": {},
   "outputs": [],
   "source": []
  },
  {
   "cell_type": "code",
   "execution_count": null,
   "id": "061a52db",
   "metadata": {},
   "outputs": [],
   "source": []
  },
  {
   "cell_type": "code",
   "execution_count": null,
   "id": "aef46e84",
   "metadata": {},
   "outputs": [],
   "source": []
  },
  {
   "cell_type": "code",
   "execution_count": null,
   "id": "f4eb7e70",
   "metadata": {},
   "outputs": [],
   "source": []
  },
  {
   "cell_type": "code",
   "execution_count": null,
   "id": "69362534",
   "metadata": {},
   "outputs": [],
   "source": []
  },
  {
   "cell_type": "code",
   "execution_count": null,
   "id": "f9b52e93",
   "metadata": {},
   "outputs": [],
   "source": []
  },
  {
   "cell_type": "code",
   "execution_count": null,
   "id": "e68e5463",
   "metadata": {},
   "outputs": [],
   "source": []
  },
  {
   "cell_type": "code",
   "execution_count": null,
   "id": "7c06e077",
   "metadata": {},
   "outputs": [],
   "source": []
  },
  {
   "cell_type": "code",
   "execution_count": null,
   "id": "0ce5a09d",
   "metadata": {},
   "outputs": [],
   "source": []
  },
  {
   "cell_type": "code",
   "execution_count": null,
   "id": "c148f4ca",
   "metadata": {},
   "outputs": [],
   "source": []
  },
  {
   "cell_type": "code",
   "execution_count": null,
   "id": "3b646373",
   "metadata": {},
   "outputs": [],
   "source": []
  },
  {
   "cell_type": "code",
   "execution_count": null,
   "id": "f71a4078",
   "metadata": {},
   "outputs": [],
   "source": []
  },
  {
   "cell_type": "code",
   "execution_count": null,
   "id": "f974b3bc",
   "metadata": {},
   "outputs": [],
   "source": []
  },
  {
   "cell_type": "code",
   "execution_count": null,
   "id": "474fe92a",
   "metadata": {},
   "outputs": [],
   "source": []
  },
  {
   "cell_type": "code",
   "execution_count": null,
   "id": "e0082fb3",
   "metadata": {},
   "outputs": [],
   "source": []
  },
  {
   "cell_type": "code",
   "execution_count": null,
   "id": "e3ab2802",
   "metadata": {},
   "outputs": [],
   "source": []
  },
  {
   "cell_type": "code",
   "execution_count": null,
   "id": "1102703a",
   "metadata": {},
   "outputs": [],
   "source": []
  },
  {
   "cell_type": "code",
   "execution_count": null,
   "id": "2db6468d",
   "metadata": {},
   "outputs": [],
   "source": []
  },
  {
   "cell_type": "code",
   "execution_count": null,
   "id": "ff31a9e3",
   "metadata": {},
   "outputs": [],
   "source": []
  }
 ],
 "metadata": {
  "kernelspec": {
   "display_name": "Python 3 (ipykernel)",
   "language": "python",
   "name": "python3"
  },
  "language_info": {
   "codemirror_mode": {
    "name": "ipython",
    "version": 3
   },
   "file_extension": ".py",
   "mimetype": "text/x-python",
   "name": "python",
   "nbconvert_exporter": "python",
   "pygments_lexer": "ipython3",
   "version": "3.11.5"
  }
 },
 "nbformat": 4,
 "nbformat_minor": 5
}
