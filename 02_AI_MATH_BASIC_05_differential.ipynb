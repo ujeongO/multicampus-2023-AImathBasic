{
 "cells": [
  {
   "cell_type": "markdown",
   "id": "c76d124c",
   "metadata": {},
   "source": [
    "미분"
   ]
  },
  {
   "cell_type": "code",
   "execution_count": 1,
   "id": "1a8daa7b",
   "metadata": {},
   "outputs": [],
   "source": [
    "from sympy import symbols"
   ]
  },
  {
   "cell_type": "markdown",
   "id": "1ee91edd",
   "metadata": {},
   "source": [
    "평균변화율"
   ]
  },
  {
   "cell_type": "code",
   "execution_count": 2,
   "id": "6447a008",
   "metadata": {},
   "outputs": [],
   "source": [
    "# 평균변화율 함수 생성\n",
    "\n",
    "def average(a, b):\n",
    "    m = max(a, b) # a, b의 최댓값\n",
    "    n = min(a, b) # a, b의 최솟값\n",
    "    x = symbols('s') # 기호변수 x 선언\n",
    "    \n",
    "    fx = 2*x**2 + 4*x + 7\n",
    "    fb = fx.subs(x, m) # 함수에 m 대입\n",
    "    fa = fx.subs(x, n) # 함수에 n 대입\n",
    "    \n",
    "    result = (fb-fa) / (b-a)\n",
    "    \n",
    "    return result"
   ]
  },
  {
   "cell_type": "code",
   "execution_count": 3,
   "id": "dfc51adc",
   "metadata": {},
   "outputs": [
    {
     "name": "stdout",
     "output_type": "stream",
     "text": [
      "8\n"
     ]
    }
   ],
   "source": [
    "print(average(0,2))"
   ]
  },
  {
   "cell_type": "code",
   "execution_count": null,
   "id": "67b90488",
   "metadata": {},
   "outputs": [],
   "source": []
  },
  {
   "cell_type": "markdown",
   "id": "9c24d194",
   "metadata": {},
   "source": [
    "순간변화율(미분계수)"
   ]
  },
  {
   "cell_type": "code",
   "execution_count": 4,
   "id": "728cda8e",
   "metadata": {},
   "outputs": [],
   "source": [
    "from sympy import Derivative, symbols"
   ]
  },
  {
   "cell_type": "code",
   "execution_count": 5,
   "id": "b92c030e",
   "metadata": {},
   "outputs": [],
   "source": [
    "x = symbols('x')\n",
    "fx = 2*x**2 + 4*x + 7"
   ]
  },
  {
   "cell_type": "code",
   "execution_count": 6,
   "id": "01e10e3d",
   "metadata": {},
   "outputs": [
    {
     "data": {
      "text/latex": [
       "$\\displaystyle 4 x + 4$"
      ],
      "text/plain": [
       "4*x + 4"
      ]
     },
     "execution_count": 6,
     "metadata": {},
     "output_type": "execute_result"
    }
   ],
   "source": [
    "fprime = Derivative(fx, x).doit()\n",
    "# fx를 x에 대해 미분_해줘\n",
    "fprime"
   ]
  },
  {
   "cell_type": "code",
   "execution_count": 8,
   "id": "81384539",
   "metadata": {},
   "outputs": [
    {
     "name": "stdout",
     "output_type": "stream",
     "text": [
      "fx에서 x = 3에서의 순간변화율(미분계수는) 16 입니다.\n"
     ]
    }
   ],
   "source": [
    "n = fprime.subs({x:3})\n",
    "# print(\"fx에서 x = 3에서의 순간변화율(미분계수는) \", n, \"입니다.\")\n",
    "print(f'fx에서 x = 3에서의 순간변화율(미분계수는) {n} 입니다.')"
   ]
  },
  {
   "cell_type": "code",
   "execution_count": null,
   "id": "ad306572",
   "metadata": {},
   "outputs": [],
   "source": []
  },
  {
   "cell_type": "code",
   "execution_count": 9,
   "id": "61b4f9da",
   "metadata": {},
   "outputs": [],
   "source": [
    "from sympy import Derivative, symbols"
   ]
  },
  {
   "cell_type": "code",
   "execution_count": 10,
   "id": "6ec25ad8",
   "metadata": {},
   "outputs": [],
   "source": [
    "x = symbols('x')\n",
    "fx = 2*x**2 + 4*x + 7"
   ]
  },
  {
   "cell_type": "code",
   "execution_count": 11,
   "id": "723d8d27",
   "metadata": {},
   "outputs": [
    {
     "data": {
      "text/latex": [
       "$\\displaystyle 4 x + 4$"
      ],
      "text/plain": [
       "4*x + 4"
      ]
     },
     "execution_count": 11,
     "metadata": {},
     "output_type": "execute_result"
    }
   ],
   "source": [
    "Derivative(fx, x).doit()"
   ]
  },
  {
   "cell_type": "code",
   "execution_count": 12,
   "id": "66825c31",
   "metadata": {},
   "outputs": [
    {
     "data": {
      "text/latex": [
       "$\\displaystyle 4 x$"
      ],
      "text/plain": [
       "4*x"
      ]
     },
     "execution_count": 12,
     "metadata": {},
     "output_type": "execute_result"
    }
   ],
   "source": [
    "fx = 2*x**2 - 1\n",
    "Derivative(fx, x).doit()"
   ]
  },
  {
   "cell_type": "code",
   "execution_count": null,
   "id": "2329551c",
   "metadata": {},
   "outputs": [],
   "source": []
  },
  {
   "cell_type": "markdown",
   "id": "cc9e7952",
   "metadata": {},
   "source": [
    "다항함수 미분법"
   ]
  },
  {
   "cell_type": "code",
   "execution_count": 13,
   "id": "90da94fe",
   "metadata": {},
   "outputs": [
    {
     "name": "stdout",
     "output_type": "stream",
     "text": [
      "6*x**2 + 6*x + 1\n"
     ]
    }
   ],
   "source": [
    "import sympy as sym\n",
    "\n",
    "# diff() 함수 활용, 미분\n",
    "x = sym.Symbol('x')\n",
    "a = sym.diff((2*x**3 + 3*x**2 + x + 1), x)\n",
    "\n",
    "print(a)"
   ]
  },
  {
   "cell_type": "code",
   "execution_count": 14,
   "id": "3e699b71",
   "metadata": {},
   "outputs": [
    {
     "name": "stdout",
     "output_type": "stream",
     "text": [
      "6*x**2 + 4*x + (2*x + 1)*(6*x + 2)\n"
     ]
    }
   ],
   "source": [
    "fx = sym.diff(((2*x + 1)*(3*x**2 + 2*x)), x)\n",
    "print(fx)"
   ]
  },
  {
   "cell_type": "code",
   "execution_count": null,
   "id": "5dc6b150",
   "metadata": {},
   "outputs": [],
   "source": []
  }
 ],
 "metadata": {
  "kernelspec": {
   "display_name": "Python 3 (ipykernel)",
   "language": "python",
   "name": "python3"
  },
  "language_info": {
   "codemirror_mode": {
    "name": "ipython",
    "version": 3
   },
   "file_extension": ".py",
   "mimetype": "text/x-python",
   "name": "python",
   "nbconvert_exporter": "python",
   "pygments_lexer": "ipython3",
   "version": "3.11.5"
  }
 },
 "nbformat": 4,
 "nbformat_minor": 5
}
